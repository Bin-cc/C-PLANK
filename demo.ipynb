{
 "cells": [
  {
   "cell_type": "markdown",
   "id": "9d68e3d6-dda5-4b70-9563-956abafa05a1",
   "metadata": {},
   "source": [
    "## A demo performing the interpretability of C-PLANK"
   ]
  },
  {
   "cell_type": "markdown",
   "id": "84f9bafc-bec0-4435-a9f5-5821b50bd53d",
   "metadata": {},
   "source": [
    "Example of the interaction between RAB14 and FFF004, which has been validated by refer [1]"
   ]
  },
  {
   "cell_type": "code",
   "execution_count": 1,
   "id": "970ec7ae-531b-4252-b4cb-c482600184df",
   "metadata": {},
   "outputs": [],
   "source": [
    "import os\n",
    "from tqdm import tqdm\n",
    "import pandas as pd\n",
    "import numpy as np\n",
    "from Prediction.screening import screening\n",
    "from Prediction.utils import *\n",
    "from sklearn.preprocessing import MinMaxScaler\n",
    "from rdkit import Chem\n",
    "from rdkit.Chem import rdFMCS\n",
    "from rdkit.Chem import rdFingerprintGenerator\n",
    "from rdkit.Chem.MolStandardize import rdMolStandardize\n",
    "from rdkit.Chem.Scaffolds import MurckoScaffold\n",
    "from rdkit.Chem import MACCSkeys\n",
    "from rdkit import DataStructs\n",
    "from rdkit.Chem import Draw\n",
    "from rdkit.Chem.Draw import rdMolDraw2D\n",
    "from rdkit.Chem import AllChem\n",
    "from itertools import product\n",
    "from matplotlib_venn import venn2\n",
    "import matplotlib.pyplot as plt\n",
    "import seaborn as sns\n",
    "import io\n",
    "from PIL import Image"
   ]
  },
  {
   "cell_type": "code",
   "execution_count": 2,
   "id": "c05471e1-aa6f-4ddf-9a02-d1558b584a79",
   "metadata": {},
   "outputs": [],
   "source": [
    "def standardize_smi(sml):\n",
    "    mol = Chem.MolFromSmiles(sml)\n",
    "    try: clean_mol = rdMolStandardize.Cleanup(mol)\n",
    "    except: clean_mol = mol\n",
    "    stan_smiles = Chem.MolToSmiles(clean_mol, canonical=True)\n",
    "    \n",
    "    return stan_smiles"
   ]
  },
  {
   "cell_type": "code",
   "execution_count": 3,
   "id": "ae0ab5b3-71c1-41a4-a9bf-3b31b2792f93",
   "metadata": {},
   "outputs": [],
   "source": [
    "file_path = './Data'\n",
    "ligand_repo = pd.read_csv(os.path.join(file_path, 'ligand_repository.tsv'), sep='\\t')\n",
    "ligand_repo = {x['fragId']:x['SMILES'] for x in ligand_repo.to_dict(\"records\")}\n",
    "protein_repo = pd.read_csv(os.path.join(file_path, 'protein_repository.tsv'), sep='\\t')\n",
    "prot2gene = {x['Entry']:x['Gene Names'] for x in protein_repo.to_dict(\"records\")}\n",
    "prot2seq = {x['Entry']:x['Sequence'] for x in protein_repo.to_dict(\"records\")}\n",
    "gene2prot = {gene:prot for prot,gene in prot2gene.items()}\n",
    "sc = screening(file_path)"
   ]
  },
  {
   "cell_type": "code",
   "execution_count": 4,
   "id": "fa298878-c60d-468c-ab4a-7a8ab3039db6",
   "metadata": {},
   "outputs": [
    {
     "name": "stderr",
     "output_type": "stream",
     "text": [
      "[16:33:36] Initializing MetalDisconnector\n",
      "[16:33:36] Running MetalDisconnector\n",
      "[16:33:36] Initializing Normalizer\n",
      "[16:33:36] Running Normalizer\n",
      "[16:33:36] Initializing MetalDisconnector\n",
      "[16:33:36] Running MetalDisconnector\n",
      "[16:33:36] Initializing Normalizer\n",
      "[16:33:36] Running Normalizer\n"
     ]
    },
    {
     "data": {
      "text/plain": [
       "{'Pair score': 0.7303061,\n",
       " 'Diazo score': array(0.04275001, dtype=float32),\n",
       " 'Diazo position': [4, 24, 25],\n",
       " 'Alkyne score': array(0.03006819, dtype=float32),\n",
       " 'Alkyne position': [0, 1, 2, 3],\n",
       " 'Fragment score': array(0.03955143, dtype=float32)}"
      ]
     },
     "execution_count": 4,
     "metadata": {},
     "output_type": "execute_result"
    }
   ],
   "source": [
    "gene = 'RAB14'\n",
    "sml = 'C#CCCC1(N=N1)CCNC(C2(CC2)C3=CC(OC(F)(F)O4)=C4C=C3)=O'\n",
    "sml = standardize_smi(sml)\n",
    "result = sc.given_pair_screen(prot=gene, ligand=sml)\n",
    "result"
   ]
  },
  {
   "cell_type": "markdown",
   "id": "f702e4d9-7ec2-4822-8041-6995dcbdbfaf",
   "metadata": {},
   "source": [
    "### Read in attention score to visulize the importance of atoms and residues"
   ]
  },
  {
   "cell_type": "code",
   "execution_count": 8,
   "id": "d082fb16-5b48-45f7-8ed8-b2bf5430254f",
   "metadata": {},
   "outputs": [],
   "source": [
    "residue_score = pd.read_csv(os.path.join(file_path, f'screening_result/{gene}_LigandA_residue_score.csv'))\n",
    "atom_score = pd.read_csv(os.path.join(file_path, f'screening_result/{gene}_LigandA_atom_score.csv'))\n",
    "cols_drop = residue_score.columns[(residue_score == 0).any()]\n",
    "residue_score = residue_score.drop(columns=cols_drop)\n",
    "cols_drop = atom_score.columns[(atom_score == 0).any()]\n",
    "atom_score = atom_score.drop(columns=cols_drop)\n",
    "\n",
    "scaler = MinMaxScaler()\n",
    "atom_score = scaler.fit_transform(atom_score.values[0].reshape(-1, 1))"
   ]
  },
  {
   "cell_type": "code",
   "execution_count": 7,
   "id": "507a2539-56b4-4d80-8020-ebac677bcb38",
   "metadata": {},
   "outputs": [
    {
     "data": {
      "image/png": "[encoded data removed]",
      "text/plain": [
       "<Figure size 240x60 with 1 Axes>"
      ]
     },
     "metadata": {},
     "output_type": "display_data"
    },
    {
     "data": {
      "image/png": "[encoded data removed]",
      "text/plain": [
       "<Figure size 240x60 with 1 Axes>"
      ]
     },
     "metadata": {},
     "output_type": "display_data"
    }
   ],
   "source": [
    "striped_heatmap(atom_score.T, 'Atom rank', interval=5, fff=True, save=False)\n",
    "striped_heatmap(residue_score.values, 'Residue rank', 50, expand=4, save=False)"
   ]
  },
  {
   "cell_type": "markdown",
   "id": "993aa1dc-b9e2-4ba1-a730-0cf32f7c442c",
   "metadata": {},
   "source": [
    "### Mapping atom importance to ligand structue"
   ]
  },
  {
   "cell_type": "code",
   "execution_count": 28,
   "id": "d06d2d88-631a-4dae-b955-4e6942e58020",
   "metadata": {},
   "outputs": [],
   "source": [
    "def colormap(atom2score):\n",
    "    scores = np.array(list(atom2score.values()))\n",
    "    norm = Normalize(vmin=np.min(scores), vmax=np.max(scores))\n",
    "    colors_hex = ['#f0faff','#0094fa']\n",
    "    cmap_name = 'my_list'\n",
    "    cmap = LinearSegmentedColormap.from_list(cmap_name, colors_hex, N=len(scores))\n",
    "\n",
    "    sm = ScalarMappable(norm=norm, cmap=cmap)\n",
    "    atom2color = {atom:sm.to_rgba(score) for atom, score in atom2score.items()}\n",
    "\n",
    "    return atom2color, sm\n",
    "\n",
    "def ligand_visual(mol, atom2score):\n",
    "    atom2color, sm = colormap(atom2score)\n",
    "    \n",
    "    drawer = rdMolDraw2D.MolDraw2DCairo(600, 600)\n",
    "    options = drawer.drawOptions()\n",
    "    options.highlightRadius = 0.3\n",
    "    drawer.DrawMolecule(mol, highlightAtoms=list(atom2color.keys()), \n",
    "                        highlightAtomColors=atom2color,\n",
    "                        )\n",
    "    drawer.FinishDrawing()\n",
    "    img_data = drawer.GetDrawingText()\n",
    "    img = Image.open(io.BytesIO(img_data))\n",
    "    \n",
    "    fig, ax = plt.subplots(figsize=(4, 4),dpi=60)\n",
    "    plt.rcParams['font.sans-serif'] = 'Arial'\n",
    "    ax.imshow(img)\n",
    "    ax.axis('off')\n",
    "    sm.set_array([])\n",
    "    cbar = plt.colorbar(sm, ax=ax, fraction=0.05, aspect=10, pad=0.1,\n",
    "                        orientation='vertical')\n",
    "    cbar.set_label('Nomalized\\natom attention score', \n",
    "                   rotation=90, labelpad=10, fontsize=14)\n",
    "    cbar.set_ticks([0, 0.5, 1])\n",
    "    cbar.ax.tick_params(labelsize=14)\n",
    "    plt.tight_layout()\n",
    "    plt.show()"
   ]
  },
  {
   "cell_type": "code",
   "execution_count": 29,
   "id": "1fc75af5-43bf-4f49-a0d8-8113500d1b5f",
   "metadata": {},
   "outputs": [
    {
     "data": {
      "image/png": "[encoded data removed]",
      "text/plain": [
       "<Figure size 240x240 with 2 Axes>"
      ]
     },
     "metadata": {},
     "output_type": "display_data"
    }
   ],
   "source": [
    "mol = Chem.MolFromSmiles(sml)\n",
    "AllChem.Compute2DCoords(mol)\n",
    "atom2score = {i:score[0] for i, score in enumerate(atom_score)}\n",
    "ligand_visual(mol, atom2score)"
   ]
  },
  {
   "cell_type": "markdown",
   "id": "5e21592a-233c-491c-9d4f-79efe3e4c5b7",
   "metadata": {},
   "source": [
    "### Mapping residue importance to protein structure"
   ]
  },
  {
   "cell_type": "markdown",
   "id": "7c94ea3c-cc96-4efd-b00a-6ace4cda39b7",
   "metadata": {},
   "source": [
    "The visualization of residue importance is achieved using PyMOL which is a tool to visualize protein 3D structure, with following step:\n",
    "1. Transferring the normalized attention score into a color code for each residue in order (see ./Prediction/colormapping.py)\n",
    "2. Running the color mapping code on PyMOL (see ./Prediction/pymol_script.py)"
   ]
  },
  {
   "cell_type": "markdown",
   "id": "003663c4-de36-4383-ae9a-17cf44e7f7fc",
   "metadata": {},
   "source": [
    "### Reference\n",
    "[1] Wozniak, J. M. et al. Enhanced mapping of small-molecule binding sites in cells. Nature Chemical Biology 20, 823-834 (2024)."
   ]
  }
 ],
 "metadata": {
  "kernelspec": {
   "display_name": "Python 3 (ipykernel)",
   "language": "python",
   "name": "python3"
  },
  "language_info": {
   "codemirror_mode": {
    "name": "ipython",
    "version": 3
   },
   "file_extension": ".py",
   "mimetype": "text/x-python",
   "name": "python",
   "nbconvert_exporter": "python",
   "pygments_lexer": "ipython3",
   "version": "3.12.7"
  }
 },
 "nbformat": 4,
 "nbformat_minor": 5
}
